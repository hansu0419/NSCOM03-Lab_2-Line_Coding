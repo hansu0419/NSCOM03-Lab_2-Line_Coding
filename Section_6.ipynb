{
 "cells": [
  {
   "cell_type": "markdown",
   "metadata": {},
   "source": [
    "# Section 6"
   ]
  },
  {
   "cell_type": "markdown",
   "metadata": {},
   "source": [
    "## AMI & Pseudoternary"
   ]
  },
  {
   "cell_type": "code",
   "execution_count": null,
   "metadata": {},
   "outputs": [],
   "source": []
  },
  {
   "cell_type": "code",
   "execution_count": null,
   "metadata": {},
   "outputs": [],
   "source": [
    "import numpy as np\n",
    "import matplotlib.pyplot as plt\n",
    "\n",
    "data_bits = [0, 1, 0, 0, -1, 0]\n",
    "data_bits2 = [1, 0, -1, 1, 0, -1]\n",
    "\n",
    "num_bits = len(data_bits)\n",
    "fs = 100\n",
    "bit_duration = 1\n",
    "\n",
    "time = np.linspace(0, num_bits * bit_duration, num_bits * fs, endpoint=False)\n",
    "\n",
    "ami_signal = np.repeat(data_bits, fs)\n",
    "pseudo_signal = np.repeat(data_bits2, fs)\n",
    "\n",
    "plt.subplot(2, 1, 1)\n",
    "plt.plot(time, ami_signal, drawstyle='steps-pre')\n",
    "plt.title('AMI & Pseudoternary')\n",
    "plt.ylabel('AMI')\n",
    "plt.grid(True)\n",
    "\n",
    "plt.subplot(2, 1, 2)\n",
    "plt.plot(time, pseudo_signal, drawstyle='steps-pre')\n",
    "plt.xlabel('Time (seconds)')\n",
    "plt.ylabel('Pseudoternary')\n",
    "plt.grid(True)\n",
    "\n",
    "plt.show()"
   ]
  }
 ],
 "metadata": {
  "kernelspec": {
   "display_name": "Python 3",
   "language": "python",
   "name": "python3"
  },
  "language_info": {
   "name": "python",
   "version": "3.11.5"
  }
 },
 "nbformat": 4,
 "nbformat_minor": 2
}
